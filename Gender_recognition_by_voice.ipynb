{
  "nbformat": 4,
  "nbformat_minor": 0,
  "metadata": {
    "colab": {
      "name": "Gender_recognition_by_voice.ipynb",
      "provenance": [],
      "collapsed_sections": [],
      "authorship_tag": "ABX9TyP+65tuHvbCJEDZTITh+yqG",
      "include_colab_link": true
    },
    "kernelspec": {
      "name": "python3",
      "display_name": "Python 3"
    }
  },
  "cells": [
    {
      "cell_type": "markdown",
      "metadata": {
        "id": "view-in-github",
        "colab_type": "text"
      },
      "source": [
        "<a href=\"https://colab.research.google.com/github/jaymalak/Gender-recognition-by-voice/blob/master/Gender_recognition_by_voice.ipynb\" target=\"_parent\"><img src=\"https://colab.research.google.com/assets/colab-badge.svg\" alt=\"Open In Colab\"/></a>"
      ]
    },
    {
      "cell_type": "markdown",
      "metadata": {
        "id": "LDoXEUFq4MZH",
        "colab_type": "text"
      },
      "source": [
        "#GENDER RECOGNITION BY VOICE\n",
        "  "
      ]
    },
    {
      "cell_type": "markdown",
      "metadata": {
        "id": "10dT4F-w4nEz",
        "colab_type": "text"
      },
      "source": [
        "## 1. Objective\n",
        "\n",
        "To Identify the Gender with corresponding voice"
      ]
    },
    {
      "cell_type": "markdown",
      "metadata": {
        "id": "fFoB4YK45jsQ",
        "colab_type": "text"
      },
      "source": [
        "##2. Data Loading and Description"
      ]
    },
    {
      "cell_type": "markdown",
      "metadata": {
        "id": "E7eMp78e5o2W",
        "colab_type": "text"
      },
      "source": [
        "\n",
        "####Importing Packages"
      ]
    },
    {
      "cell_type": "code",
      "metadata": {
        "id": "ui2JqEkE5t7i",
        "colab_type": "code",
        "colab": {}
      },
      "source": [
        "import pandas as pd\n",
        "import numpy as np\n",
        "import seaborn as sns\n",
        "import matplotlib.pyplot as plt\n",
        "from sklearn import metrics\n",
        "import xgboost as xgb\n",
        "# allow plots to appear directly in the notebook\n",
        "%matplotlib inline"
      ],
      "execution_count": 0,
      "outputs": []
    },
    {
      "cell_type": "markdown",
      "metadata": {
        "id": "O2DybzGA53IK",
        "colab_type": "text"
      },
      "source": [
        "#### Importing the Dataset"
      ]
    },
    {
      "cell_type": "code",
      "metadata": {
        "id": "yjALpS4v25rK",
        "colab_type": "code",
        "outputId": "b0e9e128-fb7a-47e1-d65d-f08e874f7b48",
        "colab": {
          "base_uri": "https://localhost:8080/",
          "height": 255
        }
      },
      "source": [
        "dtvoice = pd.read_csv('https://raw.githubusercontent.com/insaid2018/Term-3/master/Projects/gender_recognition_by_voice.csv', index_col=0)\n",
        "dtvoice.head()"
      ],
      "execution_count": 0,
      "outputs": [
        {
          "output_type": "execute_result",
          "data": {
            "text/html": [
              "<div>\n",
              "<style scoped>\n",
              "    .dataframe tbody tr th:only-of-type {\n",
              "        vertical-align: middle;\n",
              "    }\n",
              "\n",
              "    .dataframe tbody tr th {\n",
              "        vertical-align: top;\n",
              "    }\n",
              "\n",
              "    .dataframe thead th {\n",
              "        text-align: right;\n",
              "    }\n",
              "</style>\n",
              "<table border=\"1\" class=\"dataframe\">\n",
              "  <thead>\n",
              "    <tr style=\"text-align: right;\">\n",
              "      <th></th>\n",
              "      <th>sd</th>\n",
              "      <th>median</th>\n",
              "      <th>Q25</th>\n",
              "      <th>Q75</th>\n",
              "      <th>IQR</th>\n",
              "      <th>skew</th>\n",
              "      <th>kurt</th>\n",
              "      <th>sp.ent</th>\n",
              "      <th>sfm</th>\n",
              "      <th>mode</th>\n",
              "      <th>centroid</th>\n",
              "      <th>meanfun</th>\n",
              "      <th>minfun</th>\n",
              "      <th>maxfun</th>\n",
              "      <th>meandom</th>\n",
              "      <th>mindom</th>\n",
              "      <th>maxdom</th>\n",
              "      <th>dfrange</th>\n",
              "      <th>modindx</th>\n",
              "      <th>label</th>\n",
              "    </tr>\n",
              "    <tr>\n",
              "      <th>meanfreq</th>\n",
              "      <th></th>\n",
              "      <th></th>\n",
              "      <th></th>\n",
              "      <th></th>\n",
              "      <th></th>\n",
              "      <th></th>\n",
              "      <th></th>\n",
              "      <th></th>\n",
              "      <th></th>\n",
              "      <th></th>\n",
              "      <th></th>\n",
              "      <th></th>\n",
              "      <th></th>\n",
              "      <th></th>\n",
              "      <th></th>\n",
              "      <th></th>\n",
              "      <th></th>\n",
              "      <th></th>\n",
              "      <th></th>\n",
              "      <th></th>\n",
              "    </tr>\n",
              "  </thead>\n",
              "  <tbody>\n",
              "    <tr>\n",
              "      <th>0.059781</th>\n",
              "      <td>0.064241</td>\n",
              "      <td>0.032027</td>\n",
              "      <td>0.015071</td>\n",
              "      <td>0.090193</td>\n",
              "      <td>0.075122</td>\n",
              "      <td>12.863462</td>\n",
              "      <td>274.402906</td>\n",
              "      <td>0.893369</td>\n",
              "      <td>0.491918</td>\n",
              "      <td>0.000000</td>\n",
              "      <td>0.059781</td>\n",
              "      <td>0.084279</td>\n",
              "      <td>0.015702</td>\n",
              "      <td>0.275862</td>\n",
              "      <td>0.007812</td>\n",
              "      <td>0.007812</td>\n",
              "      <td>0.007812</td>\n",
              "      <td>0.000000</td>\n",
              "      <td>0.000000</td>\n",
              "      <td>male</td>\n",
              "    </tr>\n",
              "    <tr>\n",
              "      <th>0.066009</th>\n",
              "      <td>0.067310</td>\n",
              "      <td>0.040229</td>\n",
              "      <td>0.019414</td>\n",
              "      <td>0.092666</td>\n",
              "      <td>0.073252</td>\n",
              "      <td>22.423285</td>\n",
              "      <td>634.613855</td>\n",
              "      <td>0.892193</td>\n",
              "      <td>0.513724</td>\n",
              "      <td>0.000000</td>\n",
              "      <td>0.066009</td>\n",
              "      <td>0.107937</td>\n",
              "      <td>0.015826</td>\n",
              "      <td>0.250000</td>\n",
              "      <td>0.009014</td>\n",
              "      <td>0.007812</td>\n",
              "      <td>0.054688</td>\n",
              "      <td>0.046875</td>\n",
              "      <td>0.052632</td>\n",
              "      <td>male</td>\n",
              "    </tr>\n",
              "    <tr>\n",
              "      <th>0.077316</th>\n",
              "      <td>0.083829</td>\n",
              "      <td>0.036718</td>\n",
              "      <td>0.008701</td>\n",
              "      <td>0.131908</td>\n",
              "      <td>0.123207</td>\n",
              "      <td>30.757155</td>\n",
              "      <td>1024.927705</td>\n",
              "      <td>0.846389</td>\n",
              "      <td>0.478905</td>\n",
              "      <td>0.000000</td>\n",
              "      <td>0.077316</td>\n",
              "      <td>0.098706</td>\n",
              "      <td>0.015656</td>\n",
              "      <td>0.271186</td>\n",
              "      <td>0.007990</td>\n",
              "      <td>0.007812</td>\n",
              "      <td>0.015625</td>\n",
              "      <td>0.007812</td>\n",
              "      <td>0.046512</td>\n",
              "      <td>male</td>\n",
              "    </tr>\n",
              "    <tr>\n",
              "      <th>0.151228</th>\n",
              "      <td>0.072111</td>\n",
              "      <td>0.158011</td>\n",
              "      <td>0.096582</td>\n",
              "      <td>0.207955</td>\n",
              "      <td>0.111374</td>\n",
              "      <td>1.232831</td>\n",
              "      <td>4.177296</td>\n",
              "      <td>0.963322</td>\n",
              "      <td>0.727232</td>\n",
              "      <td>0.083878</td>\n",
              "      <td>0.151228</td>\n",
              "      <td>0.088965</td>\n",
              "      <td>0.017798</td>\n",
              "      <td>0.250000</td>\n",
              "      <td>0.201497</td>\n",
              "      <td>0.007812</td>\n",
              "      <td>0.562500</td>\n",
              "      <td>0.554688</td>\n",
              "      <td>0.247119</td>\n",
              "      <td>male</td>\n",
              "    </tr>\n",
              "    <tr>\n",
              "      <th>0.135120</th>\n",
              "      <td>0.079146</td>\n",
              "      <td>0.124656</td>\n",
              "      <td>0.078720</td>\n",
              "      <td>0.206045</td>\n",
              "      <td>0.127325</td>\n",
              "      <td>1.101174</td>\n",
              "      <td>4.333713</td>\n",
              "      <td>0.971955</td>\n",
              "      <td>0.783568</td>\n",
              "      <td>0.104261</td>\n",
              "      <td>0.135120</td>\n",
              "      <td>0.106398</td>\n",
              "      <td>0.016931</td>\n",
              "      <td>0.266667</td>\n",
              "      <td>0.712812</td>\n",
              "      <td>0.007812</td>\n",
              "      <td>5.484375</td>\n",
              "      <td>5.476562</td>\n",
              "      <td>0.208274</td>\n",
              "      <td>male</td>\n",
              "    </tr>\n",
              "  </tbody>\n",
              "</table>\n",
              "</div>"
            ],
            "text/plain": [
              "                sd    median       Q25  ...   dfrange   modindx  label\n",
              "meanfreq                                ...                           \n",
              "0.059781  0.064241  0.032027  0.015071  ...  0.000000  0.000000   male\n",
              "0.066009  0.067310  0.040229  0.019414  ...  0.046875  0.052632   male\n",
              "0.077316  0.083829  0.036718  0.008701  ...  0.007812  0.046512   male\n",
              "0.151228  0.072111  0.158011  0.096582  ...  0.554688  0.247119   male\n",
              "0.135120  0.079146  0.124656  0.078720  ...  5.476562  0.208274   male\n",
              "\n",
              "[5 rows x 20 columns]"
            ]
          },
          "metadata": {
            "tags": []
          },
          "execution_count": 2
        }
      ]
    },
    {
      "cell_type": "code",
      "metadata": {
        "id": "YG-3LddJ3-Sh",
        "colab_type": "code",
        "outputId": "ce58ace4-d75f-4418-b33b-c4b98d0e7f0e",
        "colab": {
          "base_uri": "https://localhost:8080/",
          "height": 34
        }
      },
      "source": [
        "dtvoice.shape"
      ],
      "execution_count": 0,
      "outputs": [
        {
          "output_type": "execute_result",
          "data": {
            "text/plain": [
              "(3168, 20)"
            ]
          },
          "metadata": {
            "tags": []
          },
          "execution_count": 3
        }
      ]
    },
    {
      "cell_type": "markdown",
      "metadata": {
        "id": "UJXNX-95E54d",
        "colab_type": "text"
      },
      "source": [
        "Dataset consider under study consits of 3168 observations and 20 variables / features"
      ]
    },
    {
      "cell_type": "markdown",
      "metadata": {
        "id": "x4aOxg7A7ESt",
        "colab_type": "text"
      },
      "source": [
        "## 3. Visualisation of Data"
      ]
    },
    {
      "cell_type": "code",
      "metadata": {
        "id": "7hTlCMjv69uj",
        "colab_type": "code",
        "outputId": "3ee8c2a6-ccb7-4816-bf6e-d3c0a60757ce",
        "colab": {
          "base_uri": "https://localhost:8080/",
          "height": 476
        }
      },
      "source": [
        "dtvoice.info()"
      ],
      "execution_count": 0,
      "outputs": [
        {
          "output_type": "stream",
          "text": [
            "<class 'pandas.core.frame.DataFrame'>\n",
            "Float64Index: 3168 entries, 0.0597809849598081 to 0.16550894600183702\n",
            "Data columns (total 20 columns):\n",
            " #   Column    Non-Null Count  Dtype  \n",
            "---  ------    --------------  -----  \n",
            " 0   sd        3168 non-null   float64\n",
            " 1   median    3168 non-null   float64\n",
            " 2   Q25       3168 non-null   float64\n",
            " 3   Q75       3168 non-null   float64\n",
            " 4   IQR       3168 non-null   float64\n",
            " 5   skew      3168 non-null   float64\n",
            " 6   kurt      3168 non-null   float64\n",
            " 7   sp.ent    3168 non-null   float64\n",
            " 8   sfm       3168 non-null   float64\n",
            " 9   mode      3168 non-null   float64\n",
            " 10  centroid  3168 non-null   float64\n",
            " 11  meanfun   3168 non-null   float64\n",
            " 12  minfun    3168 non-null   float64\n",
            " 13  maxfun    3168 non-null   float64\n",
            " 14  meandom   3168 non-null   float64\n",
            " 15  mindom    3168 non-null   float64\n",
            " 16  maxdom    3168 non-null   float64\n",
            " 17  dfrange   3168 non-null   float64\n",
            " 18  modindx   3168 non-null   float64\n",
            " 19  label     3168 non-null   object \n",
            "dtypes: float64(19), object(1)\n",
            "memory usage: 519.8+ KB\n"
          ],
          "name": "stdout"
        }
      ]
    },
    {
      "cell_type": "markdown",
      "metadata": {
        "id": "nGQZxyP0eQI3",
        "colab_type": "text"
      },
      "source": [
        "All data is in numberic format except label column which is our target variable (which we have to predict)"
      ]
    },
    {
      "cell_type": "code",
      "metadata": {
        "id": "urkytIao7JrT",
        "colab_type": "code",
        "outputId": "1212045f-e21d-4762-a699-20d4a9c86bde",
        "colab": {
          "base_uri": "https://localhost:8080/",
          "height": 317
        }
      },
      "source": [
        "dtvoice.describe()"
      ],
      "execution_count": 0,
      "outputs": [
        {
          "output_type": "execute_result",
          "data": {
            "text/html": [
              "<div>\n",
              "<style scoped>\n",
              "    .dataframe tbody tr th:only-of-type {\n",
              "        vertical-align: middle;\n",
              "    }\n",
              "\n",
              "    .dataframe tbody tr th {\n",
              "        vertical-align: top;\n",
              "    }\n",
              "\n",
              "    .dataframe thead th {\n",
              "        text-align: right;\n",
              "    }\n",
              "</style>\n",
              "<table border=\"1\" class=\"dataframe\">\n",
              "  <thead>\n",
              "    <tr style=\"text-align: right;\">\n",
              "      <th></th>\n",
              "      <th>sd</th>\n",
              "      <th>median</th>\n",
              "      <th>Q25</th>\n",
              "      <th>Q75</th>\n",
              "      <th>IQR</th>\n",
              "      <th>skew</th>\n",
              "      <th>kurt</th>\n",
              "      <th>sp.ent</th>\n",
              "      <th>sfm</th>\n",
              "      <th>mode</th>\n",
              "      <th>centroid</th>\n",
              "      <th>meanfun</th>\n",
              "      <th>minfun</th>\n",
              "      <th>maxfun</th>\n",
              "      <th>meandom</th>\n",
              "      <th>mindom</th>\n",
              "      <th>maxdom</th>\n",
              "      <th>dfrange</th>\n",
              "      <th>modindx</th>\n",
              "    </tr>\n",
              "  </thead>\n",
              "  <tbody>\n",
              "    <tr>\n",
              "      <th>count</th>\n",
              "      <td>3168.000000</td>\n",
              "      <td>3168.000000</td>\n",
              "      <td>3168.000000</td>\n",
              "      <td>3168.000000</td>\n",
              "      <td>3168.000000</td>\n",
              "      <td>3168.000000</td>\n",
              "      <td>3168.000000</td>\n",
              "      <td>3168.000000</td>\n",
              "      <td>3168.000000</td>\n",
              "      <td>3168.000000</td>\n",
              "      <td>3168.000000</td>\n",
              "      <td>3168.000000</td>\n",
              "      <td>3168.000000</td>\n",
              "      <td>3168.000000</td>\n",
              "      <td>3168.000000</td>\n",
              "      <td>3168.000000</td>\n",
              "      <td>3168.000000</td>\n",
              "      <td>3168.000000</td>\n",
              "      <td>3168.000000</td>\n",
              "    </tr>\n",
              "    <tr>\n",
              "      <th>mean</th>\n",
              "      <td>0.057126</td>\n",
              "      <td>0.185621</td>\n",
              "      <td>0.140456</td>\n",
              "      <td>0.224765</td>\n",
              "      <td>0.084309</td>\n",
              "      <td>3.140168</td>\n",
              "      <td>36.568461</td>\n",
              "      <td>0.895127</td>\n",
              "      <td>0.408216</td>\n",
              "      <td>0.165282</td>\n",
              "      <td>0.180907</td>\n",
              "      <td>0.142807</td>\n",
              "      <td>0.036802</td>\n",
              "      <td>0.258842</td>\n",
              "      <td>0.829211</td>\n",
              "      <td>0.052647</td>\n",
              "      <td>5.047277</td>\n",
              "      <td>4.994630</td>\n",
              "      <td>0.173752</td>\n",
              "    </tr>\n",
              "    <tr>\n",
              "      <th>std</th>\n",
              "      <td>0.016652</td>\n",
              "      <td>0.036360</td>\n",
              "      <td>0.048680</td>\n",
              "      <td>0.023639</td>\n",
              "      <td>0.042783</td>\n",
              "      <td>4.240529</td>\n",
              "      <td>134.928661</td>\n",
              "      <td>0.044980</td>\n",
              "      <td>0.177521</td>\n",
              "      <td>0.077203</td>\n",
              "      <td>0.029918</td>\n",
              "      <td>0.032304</td>\n",
              "      <td>0.019220</td>\n",
              "      <td>0.030077</td>\n",
              "      <td>0.525205</td>\n",
              "      <td>0.063299</td>\n",
              "      <td>3.521157</td>\n",
              "      <td>3.520039</td>\n",
              "      <td>0.119454</td>\n",
              "    </tr>\n",
              "    <tr>\n",
              "      <th>min</th>\n",
              "      <td>0.018363</td>\n",
              "      <td>0.010975</td>\n",
              "      <td>0.000229</td>\n",
              "      <td>0.042946</td>\n",
              "      <td>0.014558</td>\n",
              "      <td>0.141735</td>\n",
              "      <td>2.068455</td>\n",
              "      <td>0.738651</td>\n",
              "      <td>0.036876</td>\n",
              "      <td>0.000000</td>\n",
              "      <td>0.039363</td>\n",
              "      <td>0.055565</td>\n",
              "      <td>0.009775</td>\n",
              "      <td>0.103093</td>\n",
              "      <td>0.007812</td>\n",
              "      <td>0.004883</td>\n",
              "      <td>0.007812</td>\n",
              "      <td>0.000000</td>\n",
              "      <td>0.000000</td>\n",
              "    </tr>\n",
              "    <tr>\n",
              "      <th>25%</th>\n",
              "      <td>0.041954</td>\n",
              "      <td>0.169593</td>\n",
              "      <td>0.111087</td>\n",
              "      <td>0.208747</td>\n",
              "      <td>0.042560</td>\n",
              "      <td>1.649569</td>\n",
              "      <td>5.669547</td>\n",
              "      <td>0.861811</td>\n",
              "      <td>0.258041</td>\n",
              "      <td>0.118016</td>\n",
              "      <td>0.163662</td>\n",
              "      <td>0.116998</td>\n",
              "      <td>0.018223</td>\n",
              "      <td>0.253968</td>\n",
              "      <td>0.419828</td>\n",
              "      <td>0.007812</td>\n",
              "      <td>2.070312</td>\n",
              "      <td>2.044922</td>\n",
              "      <td>0.099766</td>\n",
              "    </tr>\n",
              "    <tr>\n",
              "      <th>50%</th>\n",
              "      <td>0.059155</td>\n",
              "      <td>0.190032</td>\n",
              "      <td>0.140286</td>\n",
              "      <td>0.225684</td>\n",
              "      <td>0.094280</td>\n",
              "      <td>2.197101</td>\n",
              "      <td>8.318463</td>\n",
              "      <td>0.901767</td>\n",
              "      <td>0.396335</td>\n",
              "      <td>0.186599</td>\n",
              "      <td>0.184838</td>\n",
              "      <td>0.140519</td>\n",
              "      <td>0.046110</td>\n",
              "      <td>0.271186</td>\n",
              "      <td>0.765795</td>\n",
              "      <td>0.023438</td>\n",
              "      <td>4.992188</td>\n",
              "      <td>4.945312</td>\n",
              "      <td>0.139357</td>\n",
              "    </tr>\n",
              "    <tr>\n",
              "      <th>75%</th>\n",
              "      <td>0.067020</td>\n",
              "      <td>0.210618</td>\n",
              "      <td>0.175939</td>\n",
              "      <td>0.243660</td>\n",
              "      <td>0.114175</td>\n",
              "      <td>2.931694</td>\n",
              "      <td>13.648905</td>\n",
              "      <td>0.928713</td>\n",
              "      <td>0.533676</td>\n",
              "      <td>0.221104</td>\n",
              "      <td>0.199146</td>\n",
              "      <td>0.169581</td>\n",
              "      <td>0.047904</td>\n",
              "      <td>0.277457</td>\n",
              "      <td>1.177166</td>\n",
              "      <td>0.070312</td>\n",
              "      <td>7.007812</td>\n",
              "      <td>6.992188</td>\n",
              "      <td>0.209183</td>\n",
              "    </tr>\n",
              "    <tr>\n",
              "      <th>max</th>\n",
              "      <td>0.115273</td>\n",
              "      <td>0.261224</td>\n",
              "      <td>0.247347</td>\n",
              "      <td>0.273469</td>\n",
              "      <td>0.252225</td>\n",
              "      <td>34.725453</td>\n",
              "      <td>1309.612887</td>\n",
              "      <td>0.981997</td>\n",
              "      <td>0.842936</td>\n",
              "      <td>0.280000</td>\n",
              "      <td>0.251124</td>\n",
              "      <td>0.237636</td>\n",
              "      <td>0.204082</td>\n",
              "      <td>0.279114</td>\n",
              "      <td>2.957682</td>\n",
              "      <td>0.458984</td>\n",
              "      <td>21.867188</td>\n",
              "      <td>21.843750</td>\n",
              "      <td>0.932374</td>\n",
              "    </tr>\n",
              "  </tbody>\n",
              "</table>\n",
              "</div>"
            ],
            "text/plain": [
              "                sd       median  ...      dfrange      modindx\n",
              "count  3168.000000  3168.000000  ...  3168.000000  3168.000000\n",
              "mean      0.057126     0.185621  ...     4.994630     0.173752\n",
              "std       0.016652     0.036360  ...     3.520039     0.119454\n",
              "min       0.018363     0.010975  ...     0.000000     0.000000\n",
              "25%       0.041954     0.169593  ...     2.044922     0.099766\n",
              "50%       0.059155     0.190032  ...     4.945312     0.139357\n",
              "75%       0.067020     0.210618  ...     6.992188     0.209183\n",
              "max       0.115273     0.261224  ...    21.843750     0.932374\n",
              "\n",
              "[8 rows x 19 columns]"
            ]
          },
          "metadata": {
            "tags": []
          },
          "execution_count": 5
        }
      ]
    },
    {
      "cell_type": "markdown",
      "metadata": {
        "id": "duh-DkYgetTP",
        "colab_type": "text"
      },
      "source": [
        "Let's check correlation between all variables"
      ]
    },
    {
      "cell_type": "code",
      "metadata": {
        "id": "lO6cq0ZHeohT",
        "colab_type": "code",
        "outputId": "ef414ab4-0e75-4d68-de3b-943ba6faf5b0",
        "colab": {
          "base_uri": "https://localhost:8080/",
          "height": 658
        }
      },
      "source": [
        "dtcorr = dtvoice.corr()\n",
        "dtcorr"
      ],
      "execution_count": 0,
      "outputs": [
        {
          "output_type": "execute_result",
          "data": {
            "text/html": [
              "<div>\n",
              "<style scoped>\n",
              "    .dataframe tbody tr th:only-of-type {\n",
              "        vertical-align: middle;\n",
              "    }\n",
              "\n",
              "    .dataframe tbody tr th {\n",
              "        vertical-align: top;\n",
              "    }\n",
              "\n",
              "    .dataframe thead th {\n",
              "        text-align: right;\n",
              "    }\n",
              "</style>\n",
              "<table border=\"1\" class=\"dataframe\">\n",
              "  <thead>\n",
              "    <tr style=\"text-align: right;\">\n",
              "      <th></th>\n",
              "      <th>sd</th>\n",
              "      <th>median</th>\n",
              "      <th>Q25</th>\n",
              "      <th>Q75</th>\n",
              "      <th>IQR</th>\n",
              "      <th>skew</th>\n",
              "      <th>kurt</th>\n",
              "      <th>sp.ent</th>\n",
              "      <th>sfm</th>\n",
              "      <th>mode</th>\n",
              "      <th>centroid</th>\n",
              "      <th>meanfun</th>\n",
              "      <th>minfun</th>\n",
              "      <th>maxfun</th>\n",
              "      <th>meandom</th>\n",
              "      <th>mindom</th>\n",
              "      <th>maxdom</th>\n",
              "      <th>dfrange</th>\n",
              "      <th>modindx</th>\n",
              "    </tr>\n",
              "  </thead>\n",
              "  <tbody>\n",
              "    <tr>\n",
              "      <th>sd</th>\n",
              "      <td>1.000000</td>\n",
              "      <td>-0.562603</td>\n",
              "      <td>-0.846931</td>\n",
              "      <td>-0.161076</td>\n",
              "      <td>0.874660</td>\n",
              "      <td>0.314597</td>\n",
              "      <td>0.346241</td>\n",
              "      <td>0.716620</td>\n",
              "      <td>0.838086</td>\n",
              "      <td>-0.529150</td>\n",
              "      <td>-0.739039</td>\n",
              "      <td>-0.466281</td>\n",
              "      <td>-0.345609</td>\n",
              "      <td>-0.129662</td>\n",
              "      <td>-0.482726</td>\n",
              "      <td>-0.357667</td>\n",
              "      <td>-0.482278</td>\n",
              "      <td>-0.475999</td>\n",
              "      <td>0.122660</td>\n",
              "    </tr>\n",
              "    <tr>\n",
              "      <th>median</th>\n",
              "      <td>-0.562603</td>\n",
              "      <td>1.000000</td>\n",
              "      <td>0.774922</td>\n",
              "      <td>0.731849</td>\n",
              "      <td>-0.477352</td>\n",
              "      <td>-0.257407</td>\n",
              "      <td>-0.243382</td>\n",
              "      <td>-0.502005</td>\n",
              "      <td>-0.661690</td>\n",
              "      <td>0.677433</td>\n",
              "      <td>0.925445</td>\n",
              "      <td>0.414909</td>\n",
              "      <td>0.337602</td>\n",
              "      <td>0.251328</td>\n",
              "      <td>0.455943</td>\n",
              "      <td>0.191169</td>\n",
              "      <td>0.438919</td>\n",
              "      <td>0.435621</td>\n",
              "      <td>-0.213298</td>\n",
              "    </tr>\n",
              "    <tr>\n",
              "      <th>Q25</th>\n",
              "      <td>-0.846931</td>\n",
              "      <td>0.774922</td>\n",
              "      <td>1.000000</td>\n",
              "      <td>0.477140</td>\n",
              "      <td>-0.874189</td>\n",
              "      <td>-0.319475</td>\n",
              "      <td>-0.350182</td>\n",
              "      <td>-0.648126</td>\n",
              "      <td>-0.766875</td>\n",
              "      <td>0.591277</td>\n",
              "      <td>0.911416</td>\n",
              "      <td>0.545035</td>\n",
              "      <td>0.320994</td>\n",
              "      <td>0.199841</td>\n",
              "      <td>0.467403</td>\n",
              "      <td>0.302255</td>\n",
              "      <td>0.459683</td>\n",
              "      <td>0.454394</td>\n",
              "      <td>-0.141377</td>\n",
              "    </tr>\n",
              "    <tr>\n",
              "      <th>Q75</th>\n",
              "      <td>-0.161076</td>\n",
              "      <td>0.731849</td>\n",
              "      <td>0.477140</td>\n",
              "      <td>1.000000</td>\n",
              "      <td>0.009636</td>\n",
              "      <td>-0.206339</td>\n",
              "      <td>-0.148881</td>\n",
              "      <td>-0.174905</td>\n",
              "      <td>-0.378198</td>\n",
              "      <td>0.486857</td>\n",
              "      <td>0.740997</td>\n",
              "      <td>0.155091</td>\n",
              "      <td>0.258002</td>\n",
              "      <td>0.285584</td>\n",
              "      <td>0.359181</td>\n",
              "      <td>-0.023750</td>\n",
              "      <td>0.335114</td>\n",
              "      <td>0.335648</td>\n",
              "      <td>-0.216475</td>\n",
              "    </tr>\n",
              "    <tr>\n",
              "      <th>IQR</th>\n",
              "      <td>0.874660</td>\n",
              "      <td>-0.477352</td>\n",
              "      <td>-0.874189</td>\n",
              "      <td>0.009636</td>\n",
              "      <td>1.000000</td>\n",
              "      <td>0.249497</td>\n",
              "      <td>0.316185</td>\n",
              "      <td>0.640813</td>\n",
              "      <td>0.663601</td>\n",
              "      <td>-0.403764</td>\n",
              "      <td>-0.627605</td>\n",
              "      <td>-0.534462</td>\n",
              "      <td>-0.222680</td>\n",
              "      <td>-0.069588</td>\n",
              "      <td>-0.333362</td>\n",
              "      <td>-0.357037</td>\n",
              "      <td>-0.337877</td>\n",
              "      <td>-0.331563</td>\n",
              "      <td>0.041252</td>\n",
              "    </tr>\n",
              "    <tr>\n",
              "      <th>skew</th>\n",
              "      <td>0.314597</td>\n",
              "      <td>-0.257407</td>\n",
              "      <td>-0.319475</td>\n",
              "      <td>-0.206339</td>\n",
              "      <td>0.249497</td>\n",
              "      <td>1.000000</td>\n",
              "      <td>0.977020</td>\n",
              "      <td>-0.195459</td>\n",
              "      <td>0.079694</td>\n",
              "      <td>-0.434859</td>\n",
              "      <td>-0.322327</td>\n",
              "      <td>-0.167668</td>\n",
              "      <td>-0.216954</td>\n",
              "      <td>-0.080861</td>\n",
              "      <td>-0.336848</td>\n",
              "      <td>-0.061608</td>\n",
              "      <td>-0.305651</td>\n",
              "      <td>-0.304640</td>\n",
              "      <td>-0.169325</td>\n",
              "    </tr>\n",
              "    <tr>\n",
              "      <th>kurt</th>\n",
              "      <td>0.346241</td>\n",
              "      <td>-0.243382</td>\n",
              "      <td>-0.350182</td>\n",
              "      <td>-0.148881</td>\n",
              "      <td>0.316185</td>\n",
              "      <td>0.977020</td>\n",
              "      <td>1.000000</td>\n",
              "      <td>-0.127644</td>\n",
              "      <td>0.109884</td>\n",
              "      <td>-0.406722</td>\n",
              "      <td>-0.316036</td>\n",
              "      <td>-0.194560</td>\n",
              "      <td>-0.203201</td>\n",
              "      <td>-0.045667</td>\n",
              "      <td>-0.303234</td>\n",
              "      <td>-0.103313</td>\n",
              "      <td>-0.274500</td>\n",
              "      <td>-0.272729</td>\n",
              "      <td>-0.205539</td>\n",
              "    </tr>\n",
              "    <tr>\n",
              "      <th>sp.ent</th>\n",
              "      <td>0.716620</td>\n",
              "      <td>-0.502005</td>\n",
              "      <td>-0.648126</td>\n",
              "      <td>-0.174905</td>\n",
              "      <td>0.640813</td>\n",
              "      <td>-0.195459</td>\n",
              "      <td>-0.127644</td>\n",
              "      <td>1.000000</td>\n",
              "      <td>0.866411</td>\n",
              "      <td>-0.325298</td>\n",
              "      <td>-0.601203</td>\n",
              "      <td>-0.513194</td>\n",
              "      <td>-0.305826</td>\n",
              "      <td>-0.120738</td>\n",
              "      <td>-0.293562</td>\n",
              "      <td>-0.294869</td>\n",
              "      <td>-0.324253</td>\n",
              "      <td>-0.319054</td>\n",
              "      <td>0.198074</td>\n",
              "    </tr>\n",
              "    <tr>\n",
              "      <th>sfm</th>\n",
              "      <td>0.838086</td>\n",
              "      <td>-0.661690</td>\n",
              "      <td>-0.766875</td>\n",
              "      <td>-0.378198</td>\n",
              "      <td>0.663601</td>\n",
              "      <td>0.079694</td>\n",
              "      <td>0.109884</td>\n",
              "      <td>0.866411</td>\n",
              "      <td>1.000000</td>\n",
              "      <td>-0.485913</td>\n",
              "      <td>-0.784332</td>\n",
              "      <td>-0.421066</td>\n",
              "      <td>-0.362100</td>\n",
              "      <td>-0.192369</td>\n",
              "      <td>-0.428442</td>\n",
              "      <td>-0.289593</td>\n",
              "      <td>-0.436649</td>\n",
              "      <td>-0.431580</td>\n",
              "      <td>0.211477</td>\n",
              "    </tr>\n",
              "    <tr>\n",
              "      <th>mode</th>\n",
              "      <td>-0.529150</td>\n",
              "      <td>0.677433</td>\n",
              "      <td>0.591277</td>\n",
              "      <td>0.486857</td>\n",
              "      <td>-0.403764</td>\n",
              "      <td>-0.434859</td>\n",
              "      <td>-0.406722</td>\n",
              "      <td>-0.325298</td>\n",
              "      <td>-0.485913</td>\n",
              "      <td>1.000000</td>\n",
              "      <td>0.687715</td>\n",
              "      <td>0.324771</td>\n",
              "      <td>0.385467</td>\n",
              "      <td>0.172329</td>\n",
              "      <td>0.491479</td>\n",
              "      <td>0.198150</td>\n",
              "      <td>0.477187</td>\n",
              "      <td>0.473775</td>\n",
              "      <td>-0.182344</td>\n",
              "    </tr>\n",
              "    <tr>\n",
              "      <th>centroid</th>\n",
              "      <td>-0.739039</td>\n",
              "      <td>0.925445</td>\n",
              "      <td>0.911416</td>\n",
              "      <td>0.740997</td>\n",
              "      <td>-0.627605</td>\n",
              "      <td>-0.322327</td>\n",
              "      <td>-0.316036</td>\n",
              "      <td>-0.601203</td>\n",
              "      <td>-0.784332</td>\n",
              "      <td>0.687715</td>\n",
              "      <td>1.000000</td>\n",
              "      <td>0.460844</td>\n",
              "      <td>0.383937</td>\n",
              "      <td>0.274004</td>\n",
              "      <td>0.536666</td>\n",
              "      <td>0.229261</td>\n",
              "      <td>0.519528</td>\n",
              "      <td>0.515570</td>\n",
              "      <td>-0.216979</td>\n",
              "    </tr>\n",
              "    <tr>\n",
              "      <th>meanfun</th>\n",
              "      <td>-0.466281</td>\n",
              "      <td>0.414909</td>\n",
              "      <td>0.545035</td>\n",
              "      <td>0.155091</td>\n",
              "      <td>-0.534462</td>\n",
              "      <td>-0.167668</td>\n",
              "      <td>-0.194560</td>\n",
              "      <td>-0.513194</td>\n",
              "      <td>-0.421066</td>\n",
              "      <td>0.324771</td>\n",
              "      <td>0.460844</td>\n",
              "      <td>1.000000</td>\n",
              "      <td>0.339387</td>\n",
              "      <td>0.311950</td>\n",
              "      <td>0.270840</td>\n",
              "      <td>0.162163</td>\n",
              "      <td>0.277982</td>\n",
              "      <td>0.275154</td>\n",
              "      <td>-0.054858</td>\n",
              "    </tr>\n",
              "    <tr>\n",
              "      <th>minfun</th>\n",
              "      <td>-0.345609</td>\n",
              "      <td>0.337602</td>\n",
              "      <td>0.320994</td>\n",
              "      <td>0.258002</td>\n",
              "      <td>-0.222680</td>\n",
              "      <td>-0.216954</td>\n",
              "      <td>-0.203201</td>\n",
              "      <td>-0.305826</td>\n",
              "      <td>-0.362100</td>\n",
              "      <td>0.385467</td>\n",
              "      <td>0.383937</td>\n",
              "      <td>0.339387</td>\n",
              "      <td>1.000000</td>\n",
              "      <td>0.213987</td>\n",
              "      <td>0.375979</td>\n",
              "      <td>0.082015</td>\n",
              "      <td>0.317860</td>\n",
              "      <td>0.316486</td>\n",
              "      <td>0.002042</td>\n",
              "    </tr>\n",
              "    <tr>\n",
              "      <th>maxfun</th>\n",
              "      <td>-0.129662</td>\n",
              "      <td>0.251328</td>\n",
              "      <td>0.199841</td>\n",
              "      <td>0.285584</td>\n",
              "      <td>-0.069588</td>\n",
              "      <td>-0.080861</td>\n",
              "      <td>-0.045667</td>\n",
              "      <td>-0.120738</td>\n",
              "      <td>-0.192369</td>\n",
              "      <td>0.172329</td>\n",
              "      <td>0.274004</td>\n",
              "      <td>0.311950</td>\n",
              "      <td>0.213987</td>\n",
              "      <td>1.000000</td>\n",
              "      <td>0.337553</td>\n",
              "      <td>-0.243426</td>\n",
              "      <td>0.355390</td>\n",
              "      <td>0.359880</td>\n",
              "      <td>-0.363029</td>\n",
              "    </tr>\n",
              "    <tr>\n",
              "      <th>meandom</th>\n",
              "      <td>-0.482726</td>\n",
              "      <td>0.455943</td>\n",
              "      <td>0.467403</td>\n",
              "      <td>0.359181</td>\n",
              "      <td>-0.333362</td>\n",
              "      <td>-0.336848</td>\n",
              "      <td>-0.303234</td>\n",
              "      <td>-0.293562</td>\n",
              "      <td>-0.428442</td>\n",
              "      <td>0.491479</td>\n",
              "      <td>0.536666</td>\n",
              "      <td>0.270840</td>\n",
              "      <td>0.375979</td>\n",
              "      <td>0.337553</td>\n",
              "      <td>1.000000</td>\n",
              "      <td>0.099656</td>\n",
              "      <td>0.812838</td>\n",
              "      <td>0.811304</td>\n",
              "      <td>-0.180954</td>\n",
              "    </tr>\n",
              "    <tr>\n",
              "      <th>mindom</th>\n",
              "      <td>-0.357667</td>\n",
              "      <td>0.191169</td>\n",
              "      <td>0.302255</td>\n",
              "      <td>-0.023750</td>\n",
              "      <td>-0.357037</td>\n",
              "      <td>-0.061608</td>\n",
              "      <td>-0.103313</td>\n",
              "      <td>-0.294869</td>\n",
              "      <td>-0.289593</td>\n",
              "      <td>0.198150</td>\n",
              "      <td>0.229261</td>\n",
              "      <td>0.162163</td>\n",
              "      <td>0.082015</td>\n",
              "      <td>-0.243426</td>\n",
              "      <td>0.099656</td>\n",
              "      <td>1.000000</td>\n",
              "      <td>0.026640</td>\n",
              "      <td>0.008666</td>\n",
              "      <td>0.200212</td>\n",
              "    </tr>\n",
              "    <tr>\n",
              "      <th>maxdom</th>\n",
              "      <td>-0.482278</td>\n",
              "      <td>0.438919</td>\n",
              "      <td>0.459683</td>\n",
              "      <td>0.335114</td>\n",
              "      <td>-0.337877</td>\n",
              "      <td>-0.305651</td>\n",
              "      <td>-0.274500</td>\n",
              "      <td>-0.324253</td>\n",
              "      <td>-0.436649</td>\n",
              "      <td>0.477187</td>\n",
              "      <td>0.519528</td>\n",
              "      <td>0.277982</td>\n",
              "      <td>0.317860</td>\n",
              "      <td>0.355390</td>\n",
              "      <td>0.812838</td>\n",
              "      <td>0.026640</td>\n",
              "      <td>1.000000</td>\n",
              "      <td>0.999838</td>\n",
              "      <td>-0.425531</td>\n",
              "    </tr>\n",
              "    <tr>\n",
              "      <th>dfrange</th>\n",
              "      <td>-0.475999</td>\n",
              "      <td>0.435621</td>\n",
              "      <td>0.454394</td>\n",
              "      <td>0.335648</td>\n",
              "      <td>-0.331563</td>\n",
              "      <td>-0.304640</td>\n",
              "      <td>-0.272729</td>\n",
              "      <td>-0.319054</td>\n",
              "      <td>-0.431580</td>\n",
              "      <td>0.473775</td>\n",
              "      <td>0.515570</td>\n",
              "      <td>0.275154</td>\n",
              "      <td>0.316486</td>\n",
              "      <td>0.359880</td>\n",
              "      <td>0.811304</td>\n",
              "      <td>0.008666</td>\n",
              "      <td>0.999838</td>\n",
              "      <td>1.000000</td>\n",
              "      <td>-0.429266</td>\n",
              "    </tr>\n",
              "    <tr>\n",
              "      <th>modindx</th>\n",
              "      <td>0.122660</td>\n",
              "      <td>-0.213298</td>\n",
              "      <td>-0.141377</td>\n",
              "      <td>-0.216475</td>\n",
              "      <td>0.041252</td>\n",
              "      <td>-0.169325</td>\n",
              "      <td>-0.205539</td>\n",
              "      <td>0.198074</td>\n",
              "      <td>0.211477</td>\n",
              "      <td>-0.182344</td>\n",
              "      <td>-0.216979</td>\n",
              "      <td>-0.054858</td>\n",
              "      <td>0.002042</td>\n",
              "      <td>-0.363029</td>\n",
              "      <td>-0.180954</td>\n",
              "      <td>0.200212</td>\n",
              "      <td>-0.425531</td>\n",
              "      <td>-0.429266</td>\n",
              "      <td>1.000000</td>\n",
              "    </tr>\n",
              "  </tbody>\n",
              "</table>\n",
              "</div>"
            ],
            "text/plain": [
              "                sd    median       Q25  ...    maxdom   dfrange   modindx\n",
              "sd        1.000000 -0.562603 -0.846931  ... -0.482278 -0.475999  0.122660\n",
              "median   -0.562603  1.000000  0.774922  ...  0.438919  0.435621 -0.213298\n",
              "Q25      -0.846931  0.774922  1.000000  ...  0.459683  0.454394 -0.141377\n",
              "Q75      -0.161076  0.731849  0.477140  ...  0.335114  0.335648 -0.216475\n",
              "IQR       0.874660 -0.477352 -0.874189  ... -0.337877 -0.331563  0.041252\n",
              "skew      0.314597 -0.257407 -0.319475  ... -0.305651 -0.304640 -0.169325\n",
              "kurt      0.346241 -0.243382 -0.350182  ... -0.274500 -0.272729 -0.205539\n",
              "sp.ent    0.716620 -0.502005 -0.648126  ... -0.324253 -0.319054  0.198074\n",
              "sfm       0.838086 -0.661690 -0.766875  ... -0.436649 -0.431580  0.211477\n",
              "mode     -0.529150  0.677433  0.591277  ...  0.477187  0.473775 -0.182344\n",
              "centroid -0.739039  0.925445  0.911416  ...  0.519528  0.515570 -0.216979\n",
              "meanfun  -0.466281  0.414909  0.545035  ...  0.277982  0.275154 -0.054858\n",
              "minfun   -0.345609  0.337602  0.320994  ...  0.317860  0.316486  0.002042\n",
              "maxfun   -0.129662  0.251328  0.199841  ...  0.355390  0.359880 -0.363029\n",
              "meandom  -0.482726  0.455943  0.467403  ...  0.812838  0.811304 -0.180954\n",
              "mindom   -0.357667  0.191169  0.302255  ...  0.026640  0.008666  0.200212\n",
              "maxdom   -0.482278  0.438919  0.459683  ...  1.000000  0.999838 -0.425531\n",
              "dfrange  -0.475999  0.435621  0.454394  ...  0.999838  1.000000 -0.429266\n",
              "modindx   0.122660 -0.213298 -0.141377  ... -0.425531 -0.429266  1.000000\n",
              "\n",
              "[19 rows x 19 columns]"
            ]
          },
          "metadata": {
            "tags": []
          },
          "execution_count": 6
        }
      ]
    },
    {
      "cell_type": "code",
      "metadata": {
        "id": "hLE-AxSiUWF4",
        "colab_type": "code",
        "outputId": "de428a2b-e1d9-4a7c-f6ba-bb420acf24ae",
        "colab": {
          "base_uri": "https://localhost:8080/",
          "height": 488
        }
      },
      "source": [
        "# plot correlation matrix\n",
        "f, ax = plt.subplots(figsize = (8,8))\n",
        "# Draw the heatmap using seaborn\n",
        "sns.heatmap(dtcorr, square = True)\n",
        "plt.show()"
      ],
      "execution_count": 0,
      "outputs": [
        {
          "output_type": "display_data",
          "data": {
            "image/png": "[encoded data removed]",
            "text/plain": [
              "<Figure size 576x576 with 2 Axes>"
            ]
          },
          "metadata": {
            "tags": [],
            "needs_background": "light"
          }
        }
      ]
    },
    {
      "cell_type": "markdown",
      "metadata": {
        "id": "4BLJYpWafDP3",
        "colab_type": "text"
      },
      "source": [
        "Let's check Variables with NULL values"
      ]
    },
    {
      "cell_type": "code",
      "metadata": {
        "id": "iaWnvl57fHex",
        "colab_type": "code",
        "outputId": "56f83f35-31dc-4e43-b58e-bbc80f4405c1",
        "colab": {
          "base_uri": "https://localhost:8080/",
          "height": 49
        }
      },
      "source": [
        "##missing data \n",
        "total = dtvoice.isnull().sum().sort_values(ascending=False)\n",
        "percent = (dtvoice.isnull().sum()/dtvoice.isnull().count()).sort_values(ascending=False)\n",
        "missing_data = pd.concat([total, percent], axis=1, keys=['Total', 'Percent'])\n",
        "missing_data.query('Total > 0')"
      ],
      "execution_count": 0,
      "outputs": [
        {
          "output_type": "execute_result",
          "data": {
            "text/html": [
              "<div>\n",
              "<style scoped>\n",
              "    .dataframe tbody tr th:only-of-type {\n",
              "        vertical-align: middle;\n",
              "    }\n",
              "\n",
              "    .dataframe tbody tr th {\n",
              "        vertical-align: top;\n",
              "    }\n",
              "\n",
              "    .dataframe thead th {\n",
              "        text-align: right;\n",
              "    }\n",
              "</style>\n",
              "<table border=\"1\" class=\"dataframe\">\n",
              "  <thead>\n",
              "    <tr style=\"text-align: right;\">\n",
              "      <th></th>\n",
              "      <th>Total</th>\n",
              "      <th>Percent</th>\n",
              "    </tr>\n",
              "  </thead>\n",
              "  <tbody>\n",
              "  </tbody>\n",
              "</table>\n",
              "</div>"
            ],
            "text/plain": [
              "Empty DataFrame\n",
              "Columns: [Total, Percent]\n",
              "Index: []"
            ]
          },
          "metadata": {
            "tags": []
          },
          "execution_count": 8
        }
      ]
    },
    {
      "cell_type": "markdown",
      "metadata": {
        "id": "qixpB1IhfTF0",
        "colab_type": "text"
      },
      "source": [
        "No missing values found in data"
      ]
    },
    {
      "cell_type": "markdown",
      "metadata": {
        "id": "gstdDOOKvM7c",
        "colab_type": "text"
      },
      "source": [
        "Let's check count of records of male and female, avaialble for study"
      ]
    },
    {
      "cell_type": "code",
      "metadata": {
        "id": "B58MiebWfSK5",
        "colab_type": "code",
        "outputId": "aee76e08-a8c3-4e16-aa04-e8b4c63b8ba1",
        "colab": {
          "base_uri": "https://localhost:8080/",
          "height": 68
        }
      },
      "source": [
        "dtvoice['label'].value_counts()"
      ],
      "execution_count": 0,
      "outputs": [
        {
          "output_type": "execute_result",
          "data": {
            "text/plain": [
              "male      1584\n",
              "female    1584\n",
              "Name: label, dtype: int64"
            ]
          },
          "metadata": {
            "tags": []
          },
          "execution_count": 9
        }
      ]
    },
    {
      "cell_type": "code",
      "metadata": {
        "id": "SLIByl5PaWxb",
        "colab_type": "code",
        "outputId": "ae17112d-c0e4-4810-f51e-e941b97d7346",
        "colab": {
          "base_uri": "https://localhost:8080/",
          "height": 242
        }
      },
      "source": [
        "##dtvoice['label'].value_counts()\n",
        "fig, (axis1) = plt.subplots(1,1,figsize=(10,3))\n",
        "sns.countplot(x='label', data=dtvoice, ax=axis1)\n"
      ],
      "execution_count": 0,
      "outputs": [
        {
          "output_type": "execute_result",
          "data": {
            "text/plain": [
              "<matplotlib.axes._subplots.AxesSubplot at 0x7f10de295278>"
            ]
          },
          "metadata": {
            "tags": []
          },
          "execution_count": 10
        },
        {
          "output_type": "display_data",
          "data": {
            "image/png": "[encoded data removed]",
            "text/plain": [
              "<Figure size 720x216 with 1 Axes>"
            ]
          },
          "metadata": {
            "tags": [],
            "needs_background": "light"
          }
        }
      ]
    },
    {
      "cell_type": "markdown",
      "metadata": {
        "id": "W35I9MwkE2QW",
        "colab_type": "text"
      },
      "source": [
        "Preprocessing: label encoder and normalization"
      ]
    },
    {
      "cell_type": "code",
      "metadata": {
        "id": "nDe9oYEIEvTh",
        "colab_type": "code",
        "outputId": "18713ed7-3dcb-4f6e-b605-9a8d33c54397",
        "colab": {
          "base_uri": "https://localhost:8080/",
          "height": 34
        }
      },
      "source": [
        "from sklearn import preprocessing\n",
        "le = preprocessing.LabelEncoder()\n",
        "dtvoice[\"label\"] = le.fit_transform(dtvoice[\"label\"])\n",
        "le.classes_"
      ],
      "execution_count": 0,
      "outputs": [
        {
          "output_type": "execute_result",
          "data": {
            "text/plain": [
              "array(['female', 'male'], dtype=object)"
            ]
          },
          "metadata": {
            "tags": []
          },
          "execution_count": 11
        }
      ]
    },
    {
      "cell_type": "code",
      "metadata": {
        "id": "2icGQCMOE6TL",
        "colab_type": "code",
        "outputId": "933d075f-bc00-4b27-c900-cfe09fbfd4f1",
        "colab": {
          "base_uri": "https://localhost:8080/",
          "height": 255
        }
      },
      "source": [
        "dtvoice[:]=preprocessing.MinMaxScaler().fit_transform(dtvoice)\n",
        "dtvoice.head()"
      ],
      "execution_count": 0,
      "outputs": [
        {
          "output_type": "execute_result",
          "data": {
            "text/html": [
              "<div>\n",
              "<style scoped>\n",
              "    .dataframe tbody tr th:only-of-type {\n",
              "        vertical-align: middle;\n",
              "    }\n",
              "\n",
              "    .dataframe tbody tr th {\n",
              "        vertical-align: top;\n",
              "    }\n",
              "\n",
              "    .dataframe thead th {\n",
              "        text-align: right;\n",
              "    }\n",
              "</style>\n",
              "<table border=\"1\" class=\"dataframe\">\n",
              "  <thead>\n",
              "    <tr style=\"text-align: right;\">\n",
              "      <th></th>\n",
              "      <th>sd</th>\n",
              "      <th>median</th>\n",
              "      <th>Q25</th>\n",
              "      <th>Q75</th>\n",
              "      <th>IQR</th>\n",
              "      <th>skew</th>\n",
              "      <th>kurt</th>\n",
              "      <th>sp.ent</th>\n",
              "      <th>sfm</th>\n",
              "      <th>mode</th>\n",
              "      <th>centroid</th>\n",
              "      <th>meanfun</th>\n",
              "      <th>minfun</th>\n",
              "      <th>maxfun</th>\n",
              "      <th>meandom</th>\n",
              "      <th>mindom</th>\n",
              "      <th>maxdom</th>\n",
              "      <th>dfrange</th>\n",
              "      <th>modindx</th>\n",
              "      <th>label</th>\n",
              "    </tr>\n",
              "    <tr>\n",
              "      <th>meanfreq</th>\n",
              "      <th></th>\n",
              "      <th></th>\n",
              "      <th></th>\n",
              "      <th></th>\n",
              "      <th></th>\n",
              "      <th></th>\n",
              "      <th></th>\n",
              "      <th></th>\n",
              "      <th></th>\n",
              "      <th></th>\n",
              "      <th></th>\n",
              "      <th></th>\n",
              "      <th></th>\n",
              "      <th></th>\n",
              "      <th></th>\n",
              "      <th></th>\n",
              "      <th></th>\n",
              "      <th></th>\n",
              "      <th></th>\n",
              "      <th></th>\n",
              "    </tr>\n",
              "  </thead>\n",
              "  <tbody>\n",
              "    <tr>\n",
              "      <th>0.059781</th>\n",
              "      <td>0.473409</td>\n",
              "      <td>0.084125</td>\n",
              "      <td>0.060063</td>\n",
              "      <td>0.204956</td>\n",
              "      <td>0.254828</td>\n",
              "      <td>0.367853</td>\n",
              "      <td>0.208279</td>\n",
              "      <td>0.635798</td>\n",
              "      <td>0.564526</td>\n",
              "      <td>0.000000</td>\n",
              "      <td>0.096419</td>\n",
              "      <td>0.157706</td>\n",
              "      <td>0.030501</td>\n",
              "      <td>0.981526</td>\n",
              "      <td>0.000000</td>\n",
              "      <td>0.006452</td>\n",
              "      <td>0.000000</td>\n",
              "      <td>0.000000</td>\n",
              "      <td>0.000000</td>\n",
              "      <td>1.0</td>\n",
              "    </tr>\n",
              "    <tr>\n",
              "      <th>0.066009</th>\n",
              "      <td>0.505075</td>\n",
              "      <td>0.116900</td>\n",
              "      <td>0.077635</td>\n",
              "      <td>0.215683</td>\n",
              "      <td>0.246961</td>\n",
              "      <td>0.644279</td>\n",
              "      <td>0.483766</td>\n",
              "      <td>0.630964</td>\n",
              "      <td>0.591578</td>\n",
              "      <td>0.000000</td>\n",
              "      <td>0.125828</td>\n",
              "      <td>0.287642</td>\n",
              "      <td>0.031140</td>\n",
              "      <td>0.834600</td>\n",
              "      <td>0.000407</td>\n",
              "      <td>0.006452</td>\n",
              "      <td>0.002144</td>\n",
              "      <td>0.002146</td>\n",
              "      <td>0.056449</td>\n",
              "      <td>1.0</td>\n",
              "    </tr>\n",
              "    <tr>\n",
              "      <th>0.077316</th>\n",
              "      <td>0.675536</td>\n",
              "      <td>0.102873</td>\n",
              "      <td>0.034284</td>\n",
              "      <td>0.385912</td>\n",
              "      <td>0.457148</td>\n",
              "      <td>0.885255</td>\n",
              "      <td>0.782275</td>\n",
              "      <td>0.442738</td>\n",
              "      <td>0.548382</td>\n",
              "      <td>0.000000</td>\n",
              "      <td>0.179222</td>\n",
              "      <td>0.236945</td>\n",
              "      <td>0.030264</td>\n",
              "      <td>0.954963</td>\n",
              "      <td>0.000060</td>\n",
              "      <td>0.006452</td>\n",
              "      <td>0.000357</td>\n",
              "      <td>0.000358</td>\n",
              "      <td>0.049885</td>\n",
              "      <td>1.0</td>\n",
              "    </tr>\n",
              "    <tr>\n",
              "      <th>0.151228</th>\n",
              "      <td>0.554611</td>\n",
              "      <td>0.587559</td>\n",
              "      <td>0.389906</td>\n",
              "      <td>0.715802</td>\n",
              "      <td>0.407358</td>\n",
              "      <td>0.031549</td>\n",
              "      <td>0.001613</td>\n",
              "      <td>0.923261</td>\n",
              "      <td>0.856457</td>\n",
              "      <td>0.299565</td>\n",
              "      <td>0.528261</td>\n",
              "      <td>0.183442</td>\n",
              "      <td>0.041287</td>\n",
              "      <td>0.834600</td>\n",
              "      <td>0.065659</td>\n",
              "      <td>0.006452</td>\n",
              "      <td>0.025375</td>\n",
              "      <td>0.025393</td>\n",
              "      <td>0.265043</td>\n",
              "      <td>1.0</td>\n",
              "    </tr>\n",
              "    <tr>\n",
              "      <th>0.135120</th>\n",
              "      <td>0.627209</td>\n",
              "      <td>0.454272</td>\n",
              "      <td>0.317627</td>\n",
              "      <td>0.707515</td>\n",
              "      <td>0.474474</td>\n",
              "      <td>0.027742</td>\n",
              "      <td>0.001732</td>\n",
              "      <td>0.958736</td>\n",
              "      <td>0.926348</td>\n",
              "      <td>0.372362</td>\n",
              "      <td>0.452195</td>\n",
              "      <td>0.279190</td>\n",
              "      <td>0.036829</td>\n",
              "      <td>0.929285</td>\n",
              "      <td>0.238994</td>\n",
              "      <td>0.006452</td>\n",
              "      <td>0.250536</td>\n",
              "      <td>0.250715</td>\n",
              "      <td>0.223380</td>\n",
              "      <td>1.0</td>\n",
              "    </tr>\n",
              "  </tbody>\n",
              "</table>\n",
              "</div>"
            ],
            "text/plain": [
              "                sd    median       Q25  ...   dfrange   modindx  label\n",
              "meanfreq                                ...                           \n",
              "0.059781  0.473409  0.084125  0.060063  ...  0.000000  0.000000    1.0\n",
              "0.066009  0.505075  0.116900  0.077635  ...  0.002146  0.056449    1.0\n",
              "0.077316  0.675536  0.102873  0.034284  ...  0.000358  0.049885    1.0\n",
              "0.151228  0.554611  0.587559  0.389906  ...  0.025393  0.265043    1.0\n",
              "0.135120  0.627209  0.454272  0.317627  ...  0.250715  0.223380    1.0\n",
              "\n",
              "[5 rows x 20 columns]"
            ]
          },
          "metadata": {
            "tags": []
          },
          "execution_count": 12
        }
      ]
    },
    {
      "cell_type": "code",
      "metadata": {
        "id": "Vi1yNCq2ELvq",
        "colab_type": "code",
        "outputId": "e0f6f6a3-de44-43d1-a757-1939ad1ac1c9",
        "colab": {
          "base_uri": "https://localhost:8080/",
          "height": 879
        }
      },
      "source": [
        "plt.subplots(4,7,figsize=(15,15))\n",
        "for i in range(1,20):\n",
        "    plt.subplot(4,7,i)\n",
        "    plt.title(dtvoice.columns[i-1])\n",
        "    sns.kdeplot(dtvoice.loc[dtvoice['label'] == 0, dtvoice.columns[i-1]], color= 'green', label='F')\n",
        "    sns.kdeplot(dtvoice.loc[dtvoice['label'] == 1, dtvoice.columns[i-1]], color= 'blue', label='M')"
      ],
      "execution_count": 0,
      "outputs": [
        {
          "output_type": "display_data",
          "data": {
            "image/png": "[encoded data removed]",
            "text/plain": [
              "<Figure size 1080x1080 with 28 Axes>"
            ]
          },
          "metadata": {
            "tags": [],
            "needs_background": "light"
          }
        }
      ]
    },
    {
      "cell_type": "code",
      "metadata": {
        "id": "1DmsYq-VUxFA",
        "colab_type": "code",
        "outputId": "f5fc0896-30e6-4b53-b98c-e9a1520c06d1",
        "colab": {
          "base_uri": "https://localhost:8080/",
          "height": 318
        }
      },
      "source": [
        "dtvoice.boxplot(column= 'sd', by='label', grid=False)\n"
      ],
      "execution_count": 0,
      "outputs": [
        {
          "output_type": "execute_result",
          "data": {
            "text/plain": [
              "<matplotlib.axes._subplots.AxesSubplot at 0x7f10dd1d1080>"
            ]
          },
          "metadata": {
            "tags": []
          },
          "execution_count": 14
        },
        {
          "output_type": "display_data",
          "data": {
            "image/png": "[encoded data removed]",
            "text/plain": [
              "<Figure size 432x288 with 1 Axes>"
            ]
          },
          "metadata": {
            "tags": [],
            "needs_background": "light"
          }
        }
      ]
    },
    {
      "cell_type": "code",
      "metadata": {
        "id": "8xhTvYy0VWWw",
        "colab_type": "code",
        "outputId": "4319ee5b-1cc6-4705-8733-90fbd6547d77",
        "colab": {
          "base_uri": "https://localhost:8080/",
          "height": 318
        }
      },
      "source": [
        "dtvoice.boxplot(column= 'median', by='label', grid=False)\n"
      ],
      "execution_count": 0,
      "outputs": [
        {
          "output_type": "execute_result",
          "data": {
            "text/plain": [
              "<matplotlib.axes._subplots.AxesSubplot at 0x7f10db8971d0>"
            ]
          },
          "metadata": {
            "tags": []
          },
          "execution_count": 15
        },
        {
          "output_type": "display_data",
          "data": {
            "image/png": "[encoded data removed]",
            "text/plain": [
              "<Figure size 432x288 with 1 Axes>"
            ]
          },
          "metadata": {
            "tags": [],
            "needs_background": "light"
          }
        }
      ]
    },
    {
      "cell_type": "markdown",
      "metadata": {
        "id": "pTIjoLlXv-by",
        "colab_type": "text"
      },
      "source": [
        "##Process ML Models"
      ]
    },
    {
      "cell_type": "code",
      "metadata": {
        "id": "C24keALfvubA",
        "colab_type": "code",
        "colab": {}
      },
      "source": [
        "#Importing all the librairies we'll need\n",
        "\n",
        "from sklearn.linear_model import LinearRegression\n",
        "##from sklearn.linear_model import Lasso\n",
        "##from sklearn.linear_model import Ridge\n",
        "from sklearn.tree import DecisionTreeRegressor\n",
        "from sklearn.ensemble import RandomForestRegressor\n",
        "from sklearn.metrics import r2_score, mean_squared_error\n",
        "from sklearn.model_selection import GridSearchCV\n",
        "from sklearn.model_selection import cross_val_score ##, KFold"
      ],
      "execution_count": 0,
      "outputs": []
    },
    {
      "cell_type": "markdown",
      "metadata": {
        "id": "ZsCmQQjSwImV",
        "colab_type": "text"
      },
      "source": [
        "Defining Train and Test Dataset"
      ]
    },
    {
      "cell_type": "code",
      "metadata": {
        "id": "hQxzUjAawiky",
        "colab_type": "code",
        "colab": {}
      },
      "source": [
        "X_train = dtvoice.drop([\"label\"], axis=1)\n",
        "y_train = dtvoice[\"label\"]"
      ],
      "execution_count": 0,
      "outputs": []
    },
    {
      "cell_type": "code",
      "metadata": {
        "id": "kZMRdoWlww8H",
        "colab_type": "code",
        "outputId": "1392c34d-e108-40e9-ed4a-b874beada73e",
        "colab": {
          "base_uri": "https://localhost:8080/",
          "height": 34
        }
      },
      "source": [
        "X_train.shape"
      ],
      "execution_count": 0,
      "outputs": [
        {
          "output_type": "execute_result",
          "data": {
            "text/plain": [
              "(3168, 19)"
            ]
          },
          "metadata": {
            "tags": []
          },
          "execution_count": 18
        }
      ]
    },
    {
      "cell_type": "code",
      "metadata": {
        "id": "1vMiohMqwyJb",
        "colab_type": "code",
        "outputId": "146962ab-59b6-4708-d58e-f4eb608f2188",
        "colab": {
          "base_uri": "https://localhost:8080/",
          "height": 34
        }
      },
      "source": [
        "y_train.shape"
      ],
      "execution_count": 0,
      "outputs": [
        {
          "output_type": "execute_result",
          "data": {
            "text/plain": [
              "(3168,)"
            ]
          },
          "metadata": {
            "tags": []
          },
          "execution_count": 19
        }
      ]
    },
    {
      "cell_type": "markdown",
      "metadata": {
        "id": "dDlu-1m-w6YR",
        "colab_type": "text"
      },
      "source": [
        "Splitting Data into Validation set"
      ]
    },
    {
      "cell_type": "code",
      "metadata": {
        "id": "83OJaqLYw2fn",
        "colab_type": "code",
        "colab": {}
      },
      "source": [
        "from sklearn.model_selection import train_test_split #to create validation data set\n",
        "\n",
        "X_training, X_test, y_training, y_test = train_test_split(X_train, y_train, test_size=0.2, random_state=0) #X_valid and y_valid are the validation sets"
      ],
      "execution_count": 0,
      "outputs": []
    },
    {
      "cell_type": "code",
      "metadata": {
        "id": "xmrD0AIexXN1",
        "colab_type": "code",
        "outputId": "104d1b25-0af1-4be3-e599-720d91b3ddcc",
        "colab": {
          "base_uri": "https://localhost:8080/",
          "height": 136
        }
      },
      "source": [
        "##X_train, X_test, y_train, y_test=split(X,y)\n",
        "print('Train cases as below')\n",
        "print('X_training shape: ',X_training.shape)\n",
        "print('y_training shape: ',y_training.shape)\n",
        "print('\\nTest cases as below')\n",
        "print('X_test shape: ',X_test.shape)\n",
        "print('y_test shape: ',y_test.shape)"
      ],
      "execution_count": 0,
      "outputs": [
        {
          "output_type": "stream",
          "text": [
            "Train cases as below\n",
            "X_training shape:  (2534, 19)\n",
            "y_training shape:  (2534,)\n",
            "\n",
            "Test cases as below\n",
            "X_test shape:  (634, 19)\n",
            "y_test shape:  (634,)\n"
          ],
          "name": "stdout"
        }
      ]
    },
    {
      "cell_type": "markdown",
      "metadata": {
        "id": "LgtZOc5zBUkP",
        "colab_type": "text"
      },
      "source": [
        "##DecisionTree"
      ]
    },
    {
      "cell_type": "code",
      "metadata": {
        "id": "npvgWorJlVi1",
        "colab_type": "code",
        "outputId": "ad066e80-180e-4e30-d802-29a2be3639fc",
        "colab": {
          "base_uri": "https://localhost:8080/",
          "height": 34
        }
      },
      "source": [
        "from sklearn.tree import DecisionTreeClassifier\n",
        "mtree = DecisionTreeClassifier()\n",
        "mtree.fit(X_training, y_training)\n",
        "y_pred1 = mtree.predict(X_test)\n",
        "print(metrics.accuracy_score(y_test, y_pred1))\n",
        "trees =metrics.accuracy_score(y_test, y_pred1)"
      ],
      "execution_count": 0,
      "outputs": [
        {
          "output_type": "stream",
          "text": [
            "0.9526813880126183\n"
          ],
          "name": "stdout"
        }
      ]
    },
    {
      "cell_type": "markdown",
      "metadata": {
        "id": "yIAzgPSi_1FT",
        "colab_type": "text"
      },
      "source": [
        "## KNeighborsClassifier (KNN)"
      ]
    },
    {
      "cell_type": "code",
      "metadata": {
        "id": "m1KIyR_D_g8b",
        "colab_type": "code",
        "outputId": "ff777c94-3026-4266-9cd5-13c185469e64",
        "colab": {
          "base_uri": "https://localhost:8080/",
          "height": 34
        }
      },
      "source": [
        "from sklearn.neighbors import KNeighborsClassifier\n",
        "clf = KNeighborsClassifier()\n",
        "clf.fit(X_training, y_training)\n",
        "y_pred = clf.predict(X_test)\n",
        "print(metrics.accuracy_score(y_test, y_pred))\n",
        "knn = metrics.accuracy_score(y_test, y_pred)"
      ],
      "execution_count": 0,
      "outputs": [
        {
          "output_type": "stream",
          "text": [
            "0.9779179810725552\n"
          ],
          "name": "stdout"
        }
      ]
    },
    {
      "cell_type": "markdown",
      "metadata": {
        "id": "Hrb_4t9jkFzn",
        "colab_type": "text"
      },
      "source": [
        "## Logistic Regression"
      ]
    },
    {
      "cell_type": "code",
      "metadata": {
        "id": "i9SLrtLsmj3I",
        "colab_type": "code",
        "outputId": "8075abdb-393e-44d0-b576-11b61da32a23",
        "colab": {
          "base_uri": "https://localhost:8080/",
          "height": 34
        }
      },
      "source": [
        "from sklearn.linear_model import LogisticRegression\n",
        "#LogisticRegression\n",
        "l_clf = LogisticRegression()\n",
        "l_clf.fit(X_training,y_training)\n",
        "l_prediction = l_clf.predict(X_test)\n",
        "\n",
        "print(metrics.accuracy_score(y_test, l_prediction))\n",
        "lreg =metrics.accuracy_score(y_test, l_prediction)"
      ],
      "execution_count": 0,
      "outputs": [
        {
          "output_type": "stream",
          "text": [
            "0.9652996845425867\n"
          ],
          "name": "stdout"
        }
      ]
    },
    {
      "cell_type": "markdown",
      "metadata": {
        "id": "T8XlPBv1_WDy",
        "colab_type": "text"
      },
      "source": [
        "##RandomForest "
      ]
    },
    {
      "cell_type": "code",
      "metadata": {
        "id": "bDlagVYMxkhL",
        "colab_type": "code",
        "colab": {}
      },
      "source": [
        "# Build a Random Forest Classifier model.\n",
        "# Import the 'RandomForestClassifier' module.\n",
        "from sklearn.ensemble import RandomForestClassifier\n",
        "# Import the confusion_matrix and classification_report modules.\n",
        "from sklearn.metrics import confusion_matrix,classification_report"
      ],
      "execution_count": 0,
      "outputs": []
    },
    {
      "cell_type": "code",
      "metadata": {
        "id": "B1m4dMKgxtgc",
        "colab_type": "code",
        "colab": {}
      },
      "source": [
        "# Predict the target variable based on the feature variables of the test DataFrame.\n",
        "rf_clf = RandomForestClassifier(n_jobs=-1, n_estimators=50)\n",
        "rf_clf.fit(X_training, y_training)\n",
        "\n",
        "##print(rf_clf.score(X_training, y_training))\n",
        "y_predicted = rf_clf.predict(X_test)\n",
        "y_predicted = pd.Series(y_predicted)"
      ],
      "execution_count": 0,
      "outputs": []
    },
    {
      "cell_type": "code",
      "metadata": {
        "id": "N2hv199ZnKB4",
        "colab_type": "code",
        "outputId": "a8ebeb85-6668-4ec6-f77f-e0bc5c76891a",
        "colab": {
          "base_uri": "https://localhost:8080/",
          "height": 34
        }
      },
      "source": [
        "print(metrics.accuracy_score(y_test, y_predicted))\n",
        "rdm = metrics.accuracy_score(y_test, y_predicted)"
      ],
      "execution_count": 0,
      "outputs": [
        {
          "output_type": "stream",
          "text": [
            "0.9842271293375394\n"
          ],
          "name": "stdout"
        }
      ]
    },
    {
      "cell_type": "code",
      "metadata": {
        "id": "wa_Ebxtgy2G-",
        "colab_type": "code",
        "outputId": "349ec690-2ea2-46f8-a100-c7061d7ca1f7",
        "colab": {
          "base_uri": "https://localhost:8080/",
          "height": 68
        }
      },
      "source": [
        "y_predicted.value_counts()"
      ],
      "execution_count": 0,
      "outputs": [
        {
          "output_type": "execute_result",
          "data": {
            "text/plain": [
              "1.0    333\n",
              "0.0    301\n",
              "dtype: int64"
            ]
          },
          "metadata": {
            "tags": []
          },
          "execution_count": 28
        }
      ]
    },
    {
      "cell_type": "markdown",
      "metadata": {
        "id": "ahjDKuBzQB1K",
        "colab_type": "text"
      },
      "source": [
        "## Support Vector Machine Model"
      ]
    },
    {
      "cell_type": "code",
      "metadata": {
        "id": "kgJMs_7om8g6",
        "colab_type": "code",
        "outputId": "360e5e00-5dbd-4b07-9267-73abd9ca854b",
        "colab": {
          "base_uri": "https://localhost:8080/",
          "height": 34
        }
      },
      "source": [
        "from sklearn.svm import SVC\n",
        "#Train support vector machine model\n",
        "svm = SVC().fit(X_training, y_training)\n",
        "y_pred3 =svm.predict(X_test)\n",
        "print(metrics.accuracy_score(y_test, y_pred3))\n",
        "svmc =metrics.accuracy_score(y_test, y_pred3)"
      ],
      "execution_count": 0,
      "outputs": [
        {
          "output_type": "stream",
          "text": [
            "0.9810725552050473\n"
          ],
          "name": "stdout"
        }
      ]
    },
    {
      "cell_type": "markdown",
      "metadata": {
        "id": "ealzY148nqlr",
        "colab_type": "text"
      },
      "source": [
        "##Model Evaluation"
      ]
    },
    {
      "cell_type": "code",
      "metadata": {
        "id": "zKVOGpWXeIFO",
        "colab_type": "code",
        "outputId": "de3fcbe5-12e3-4fb9-acdf-8757d4fff7db",
        "colab": {
          "base_uri": "https://localhost:8080/",
          "height": 34
        }
      },
      "source": [
        "classifiers = [\"Decision Tree\", \"Random Forest\", \"SVC\",\"Logistic Regression\"]\n",
        "accuracy = np.array([trees, rdm, svmc,lreg])\n",
        "max_acc = np.argmax(accuracy)\n",
        "print(classifiers[max_acc] + \"is the best classifier for this problem\")"
      ],
      "execution_count": 0,
      "outputs": [
        {
          "output_type": "stream",
          "text": [
            "Random Forestis the best classifier for this problem\n"
          ],
          "name": "stdout"
        }
      ]
    },
    {
      "cell_type": "markdown",
      "metadata": {
        "id": "hH316QclzFrH",
        "colab_type": "text"
      },
      "source": [
        "##Confusion Matrix & Classification Report\n",
        "\n",
        "Printing the confusion matrix and classification report to evaluate the model with higest accuracy"
      ]
    },
    {
      "cell_type": "code",
      "metadata": {
        "id": "U8JKFTsmzE-G",
        "colab_type": "code",
        "outputId": "e6693139-fba6-4f6c-9921-fa37e6976b48",
        "colab": {
          "base_uri": "https://localhost:8080/",
          "height": 51
        }
      },
      "source": [
        "# Print the confusion matrix to see the number of TN, FN, TP and FP values.\n",
        "conmt = confusion_matrix(y_test,y_predicted)\n",
        "conmt"
      ],
      "execution_count": 0,
      "outputs": [
        {
          "output_type": "execute_result",
          "data": {
            "text/plain": [
              "array([[296,   5],\n",
              "       [  5, 328]])"
            ]
          },
          "metadata": {
            "tags": []
          },
          "execution_count": 32
        }
      ]
    },
    {
      "cell_type": "code",
      "metadata": {
        "id": "N0bTo8ra2S1D",
        "colab_type": "code",
        "outputId": "bd8082f4-5463-4ed0-b81b-af75ac9567f9",
        "colab": {
          "base_uri": "https://localhost:8080/",
          "height": 283
        }
      },
      "source": [
        "df = pd.DataFrame(conmt, columns=['y_test','y_predicted'])\n",
        "confusion_matrix = pd.crosstab(df['y_test'], df['y_predicted'], rownames=['Actual'], colnames=['Predicted'])\n",
        "\n",
        "sns.heatmap(confusion_matrix, annot=True)\n",
        "plt.show()"
      ],
      "execution_count": 0,
      "outputs": [
        {
          "output_type": "display_data",
          "data": {
            "image/png": "[encoded data removed]",
            "text/plain": [
              "<Figure size 432x288 with 2 Axes>"
            ]
          },
          "metadata": {
            "tags": [],
            "needs_background": "light"
          }
        }
      ]
    },
    {
      "cell_type": "markdown",
      "metadata": {
        "id": "C7AjdF_s33gs",
        "colab_type": "text"
      },
      "source": [
        "**Interpretention of Confusion Matrix**"
      ]
    },
    {
      "cell_type": "markdown",
      "metadata": {
        "id": "BJIv8rNw39Ax",
        "colab_type": "text"
      },
      "source": [
        "\n",
        "- Interpretation 1: values predicted as class 1 and are actually class 1=296\n",
        "\n",
        "- Interpretation 2: values predicted as class 1 but actually belong to  class 0=5\n",
        "\n",
        "- Interpretation 3:values predicted as class 0 and actually belong to  class 0=5\n",
        "  \n",
        "- Interpretation 4 : values predicted as class 0 but actually belong to  class 1=328\n"
      ]
    },
    {
      "cell_type": "code",
      "metadata": {
        "id": "DEFPwaXrzebN",
        "colab_type": "code",
        "outputId": "799fa349-976f-43cc-956b-bae74bac84cc",
        "colab": {
          "base_uri": "https://localhost:8080/",
          "height": 170
        }
      },
      "source": [
        "# Print the precision, recall and f1-score values for both the male and female classes.\n",
        "print(classification_report(y_test,y_predicted))"
      ],
      "execution_count": 0,
      "outputs": [
        {
          "output_type": "stream",
          "text": [
            "              precision    recall  f1-score   support\n",
            "\n",
            "         0.0       0.98      0.98      0.98       301\n",
            "         1.0       0.98      0.98      0.98       333\n",
            "\n",
            "    accuracy                           0.98       634\n",
            "   macro avg       0.98      0.98      0.98       634\n",
            "weighted avg       0.98      0.98      0.98       634\n",
            "\n"
          ],
          "name": "stdout"
        }
      ]
    },
    {
      "cell_type": "markdown",
      "metadata": {
        "id": "yA-vDc235Kds",
        "colab_type": "text"
      },
      "source": [
        "Precision - Fraction of the correctly predicted positive (desired) values over the total predicted values.\n",
        "Recall - Fraction of the correctly predicted positive (desired) values over the actual values.\n",
        "F1-Score - The harmonic mean of the precision and recall values.\n"
      ]
    },
    {
      "cell_type": "code",
      "metadata": {
        "id": "TEHFXy21C0e1",
        "colab_type": "code",
        "colab": {}
      },
      "source": [
        "#Plot the variable importance\n",
        "def plot_feature_importances_dtvoice(model):\n",
        "    n_features = X_training.shape[1]\n",
        "    plt.barh(range(n_features), model.feature_importances_, align='center')\n",
        "    plt.yticks(np.arange(n_features), list(dtvoice))\n",
        "    plt.xlabel(\"Variable importance\")\n",
        "    plt.ylabel(\"Independent Variable\")"
      ],
      "execution_count": 0,
      "outputs": []
    },
    {
      "cell_type": "code",
      "metadata": {
        "id": "SUYoqwDKbs82",
        "colab_type": "code",
        "outputId": "4f021b2a-fef1-49e2-d9cc-03b1a15d3f4a",
        "colab": {
          "base_uri": "https://localhost:8080/",
          "height": 279
        }
      },
      "source": [
        "plot_feature_importances_dtvoice(rf_clf)"
      ],
      "execution_count": 0,
      "outputs": [
        {
          "output_type": "display_data",
          "data": {
            "image/png": "[encoded data removed]",
            "text/plain": [
              "<Figure size 432x288 with 1 Axes>"
            ]
          },
          "metadata": {
            "tags": [],
            "needs_background": "light"
          }
        }
      ]
    },
    {
      "cell_type": "code",
      "metadata": {
        "id": "xzxIQ3y6cat9",
        "colab_type": "code",
        "outputId": "d2b25f7b-0f36-4107-b20c-75d679e1c9f1",
        "colab": {
          "base_uri": "https://localhost:8080/",
          "height": 279
        }
      },
      "source": [
        "plot_feature_importances_dtvoice(mtree)"
      ],
      "execution_count": 0,
      "outputs": [
        {
          "output_type": "display_data",
          "data": {
            "image/png": "[encoded data removed]",
            "text/plain": [
              "<Figure size 432x288 with 1 Axes>"
            ]
          },
          "metadata": {
            "tags": [],
            "needs_background": "light"
          }
        }
      ]
    },
    {
      "cell_type": "code",
      "metadata": {
        "id": "fuZAexDDgPSG",
        "colab_type": "code",
        "colab": {}
      },
      "source": [
        ""
      ],
      "execution_count": 0,
      "outputs": []
    }
  ]
}